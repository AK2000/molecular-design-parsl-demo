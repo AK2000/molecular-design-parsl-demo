{
 "cells": [
  {
   "cell_type": "markdown",
   "id": "185a29a6",
   "metadata": {},
   "source": [
    "benc TODO:\n",
    "elaborate at first reference what a SMILES is\n",
    "elaborate any other ML and chemistry specific terminology\n",
    "better outline of what the whole piece of work will be\n",
    "elaborate a \"python apP\" is a \"parsl python app - you can invoke it like a function, but it returns straight away - with a Future instead of the result; so we can carry on to do other things while the body of the wrapped function executes somewhere else\"\n",
    "explanation of the high throughput executor configuration - \"there are lots of configuration options\"\n",
    "\n",
    "TODO: also note here that parsl will manage this workload by running the tasks on available workers, rather than all at once: so it's fine to submit many many tasks and let parsl manage not exploding the environment\n"
   ]
  },
  {
   "cell_type": "markdown",
   "id": "bde9731c-1900-40b6-a431-3c86975b1ce3",
   "metadata": {},
   "source": [
    "# Molecular Design with Parsl\n",
    "This notebook demonstrates a simple molecular design application where we use machine learning to guide which computations we perform.\n",
    "\n",
    "[TODO: what's the goal here? to find the molecules with the highest ionization energy?]"
   ]
  },
  {
   "cell_type": "code",
   "execution_count": 1,
   "id": "72bcace9-64ab-4ccf-80f7-35cf0a548e22",
   "metadata": {
    "execution": {
     "iopub.execute_input": "2021-10-25T16:48:52.012650Z",
     "iopub.status.busy": "2021-10-25T16:48:52.012358Z",
     "iopub.status.idle": "2021-10-25T16:48:52.698884Z",
     "shell.execute_reply": "2021-10-25T16:48:52.698551Z"
    }
   },
   "outputs": [],
   "source": [
    "%matplotlib inline\n",
    "from matplotlib import pyplot as plt\n",
    "from chemfunctions import compute_vertical\n",
    "from concurrent.futures import as_completed\n",
    "from tqdm.notebook import tqdm\n",
    "from parsl.executors import HighThroughputExecutor\n",
    "from parsl.app.python import PythonApp\n",
    "from parsl.app.app import python_app\n",
    "from parsl.config import Config\n",
    "from time import monotonic\n",
    "import parsl\n",
    "import pandas as pd\n",
    "import numpy as np"
   ]
  },
  {
   "cell_type": "markdown",
   "id": "921d062e-4675-4c39-a1cb-d036d1d141ec",
   "metadata": {},
   "source": [
    "## Define problem\n",
    "We need some prerequisite data [TODO: i.e.e better: parameters?] to define our molecular design problem"
   ]
  },
  {
   "cell_type": "code",
   "execution_count": 2,
   "id": "9d4dfebd-6559-42e7-adad-140337e3968d",
   "metadata": {
    "execution": {
     "iopub.execute_input": "2021-10-25T16:48:52.701610Z",
     "iopub.status.busy": "2021-10-25T16:48:52.701351Z",
     "iopub.status.idle": "2021-10-25T16:48:52.807253Z",
     "shell.execute_reply": "2021-10-25T16:48:52.806961Z"
    }
   },
   "outputs": [],
   "source": [
    "search_space = pd.read_csv('data/QM9-search.tsv', delim_whitespace=True).sample(1024)  # Our search space of molecules"
   ]
  },
  {
   "cell_type": "code",
   "execution_count": 3,
   "id": "b5341682-6042-4534-8838-11b779cef16e",
   "metadata": {
    "execution": {
     "iopub.execute_input": "2021-10-25T16:48:52.809398Z",
     "iopub.status.busy": "2021-10-25T16:48:52.809145Z",
     "iopub.status.idle": "2021-10-25T16:48:52.810750Z",
     "shell.execute_reply": "2021-10-25T16:48:52.810491Z"
    }
   },
   "outputs": [],
   "source": [
    "initial_count: int = 8  # Number of calculations to run at first"
   ]
  },
  {
   "cell_type": "code",
   "execution_count": 4,
   "id": "ccf04db9-5df4-42d9-b2e4-715b1e45aa77",
   "metadata": {
    "execution": {
     "iopub.execute_input": "2021-10-25T16:48:52.812579Z",
     "iopub.status.busy": "2021-10-25T16:48:52.812292Z",
     "iopub.status.idle": "2021-10-25T16:48:52.813821Z",
     "shell.execute_reply": "2021-10-25T16:48:52.813596Z"
    }
   },
   "outputs": [],
   "source": [
    "search_count: int = 16   # Number of molecules to evaluate in total"
   ]
  },
  {
   "cell_type": "code",
   "execution_count": 5,
   "id": "e836cf85-4cc9-4bfc-bb13-74b28cef0e76",
   "metadata": {
    "execution": {
     "iopub.execute_input": "2021-10-25T16:48:52.815424Z",
     "iopub.status.busy": "2021-10-25T16:48:52.815172Z",
     "iopub.status.idle": "2021-10-25T16:48:52.816848Z",
     "shell.execute_reply": "2021-10-25T16:48:52.816584Z"
    }
   },
   "outputs": [],
   "source": [
    "batch_size: int = 4  # Number of molecules to evaluate in each batch of simulations"
   ]
  },
  {
   "cell_type": "markdown",
   "id": "49c41cb4-7b27-477e-8248-10023b176279",
   "metadata": {},
   "source": [
    "## Set up Parsl\n",
    "Our first step is to initialize Parsl.\n",
    "\n",
    "The following will configure Parsl to run tasks on the local machine. This is where we would describe the details of (for example) a supercomputer, if we wanted to execute tasks there instead."
   ]
  },
  {
   "cell_type": "code",
   "execution_count": 6,
   "id": "995a2330-8e35-4966-b7de-b99f23c5f840",
   "metadata": {
    "execution": {
     "iopub.execute_input": "2021-10-25T16:48:52.819420Z",
     "iopub.status.busy": "2021-10-25T16:48:52.819124Z",
     "iopub.status.idle": "2021-10-25T16:48:53.011436Z",
     "shell.execute_reply": "2021-10-25T16:48:53.011128Z"
    }
   },
   "outputs": [],
   "source": [
    "config = Config(\n",
    "    executors=[HighThroughputExecutor(\n",
    "        label='local',\n",
    "        max_workers=2, # Allows a maximum of two workers \n",
    "        cpu_affinity='block'  # Assigns workers to specific cores\n",
    "    )]\n",
    ")"
   ]
  },
  {
   "cell_type": "code",
   "execution_count": 7,
   "id": "393cf69b-ed97-4a7b-88e5-e72bb9898cd4",
   "metadata": {
    "execution": {
     "iopub.execute_input": "2021-10-25T16:48:53.014639Z",
     "iopub.status.busy": "2021-10-25T16:48:53.014182Z",
     "iopub.status.idle": "2021-10-25T16:48:53.154971Z",
     "shell.execute_reply": "2021-10-25T16:48:53.155185Z"
    }
   },
   "outputs": [
    {
     "data": {
      "text/plain": [
       "<parsl.dataflow.dflow.DataFlowKernel at 0x7fa323549d30>"
      ]
     },
     "execution_count": 7,
     "metadata": {},
     "output_type": "execute_result"
    }
   ],
   "source": [
    "parsl.load(config)"
   ]
  },
  {
   "cell_type": "markdown",
   "id": "1c9296aa-4d27-4098-83dd-34da8995681a",
   "metadata": {},
   "source": [
    "## Make an initial dataset\n",
    "We need data to train our ML models. We'll do that by selecting a set of molecules at random from  our search space, performing some simulations on those molecules, and training on the results.\n",
    "\n",
    "In [`chemfunctions.py`](./chemfunctions.py), we have defined a function `compute_vertical` that computes the \"vertical ionization energy\" of a molecule (a measure of how much energy it takes to strip an electron off the molecule).\n",
    "\n",
    "We need to prepare this function to run with Parsl. All we need to do is wrap this function with Parsl's `python_app` function:"
   ]
  },
  {
   "cell_type": "code",
   "execution_count": 8,
   "id": "b7836093-dad6-429f-966c-13c9c2a2f741",
   "metadata": {
    "execution": {
     "iopub.execute_input": "2021-10-25T16:48:53.157967Z",
     "iopub.status.busy": "2021-10-25T16:48:53.157701Z",
     "iopub.status.idle": "2021-10-25T16:48:53.159198Z",
     "shell.execute_reply": "2021-10-25T16:48:53.159416Z"
    }
   },
   "outputs": [
    {
     "data": {
      "text/plain": [
       "<parsl.app.python.PythonApp at 0x7fa31fd81100>"
      ]
     },
     "execution_count": 8,
     "metadata": {},
     "output_type": "execute_result"
    }
   ],
   "source": [
    "compute_vertical_app = python_app(compute_vertical)\n",
    "compute_vertical_app"
   ]
  },
  {
   "cell_type": "markdown",
   "id": "aaef5766-02ed-4f2d-8e7f-021df8e0df1c",
   "metadata": {},
   "source": [
    "This new object is a Parsl `PythonApp`. It can be invoked like the original function, but instead of immediately executing, the function wil be scheduled to run inside Parsl asynchronously. Instead of the result, the call will immediately return a `Future` which will be used to retrieve the result later on.\n",
    "\n",
    "For example, invoking compute_verticle_app with the SMILES for water, `O`, returns a Future and schedules `compute_verticle` for execution in the background."
   ]
  },
  {
   "cell_type": "code",
   "execution_count": 9,
   "id": "dfc12a88-d7bf-472a-9766-cf7444b16a66",
   "metadata": {
    "execution": {
     "iopub.execute_input": "2021-10-25T16:48:53.162245Z",
     "iopub.status.busy": "2021-10-25T16:48:53.161976Z",
     "iopub.status.idle": "2021-10-25T16:48:53.163502Z",
     "shell.execute_reply": "2021-10-25T16:48:53.163261Z"
    }
   },
   "outputs": [
    {
     "data": {
      "text/plain": [
       "<AppFuture super=<AppFuture at 0x7fa31fd811c0 state=pending>>"
      ]
     },
     "execution_count": 9,
     "metadata": {},
     "output_type": "execute_result"
    }
   ],
   "source": [
    "future = compute_vertical_app('O') #  Run water as a demonstration (O is the SMILES for water) # TODO: is it water or a single oxygen?\n",
    "future"
   ]
  },
  {
   "cell_type": "markdown",
   "id": "33c086c0",
   "metadata": {},
   "source": [
    "We can access the result of this computation by asking the future for the `result()`. If the computation isn't finished yet, then the call to `.result()` will block until the result is ready."
   ]
  },
  {
   "cell_type": "code",
   "execution_count": 10,
   "id": "d87ff886-ff13-4c3e-8708-ca6f20a209ae",
   "metadata": {
    "execution": {
     "iopub.execute_input": "2021-10-25T16:48:53.165299Z",
     "iopub.status.busy": "2021-10-25T16:48:53.165046Z",
     "iopub.status.idle": "2021-10-25T16:48:55.219003Z",
     "shell.execute_reply": "2021-10-25T16:48:55.219285Z"
    }
   },
   "outputs": [
    {
     "name": "stdout",
     "output_type": "stream",
     "text": [
      "The ionization energy of O is 0.67 Ha\n"
     ]
    }
   ],
   "source": [
    "ie = future.result()\n",
    "print(f\"The ionization energy of {future.task_def['args'][0]} is {ie:.2f} Ha\")"
   ]
  },
  {
   "cell_type": "markdown",
   "id": "56264dd2-af71-4dce-9f28-b25dd74cbdcc",
   "metadata": {},
   "source": [
    "Ok, now lets run the simulation for several different molecules and gather their results.\n",
    "\n",
    "First we submit them, all at once. Each invocation returns a `Future` immediately, so this code should finish within a few milliseconds.\n",
    "\n",
    "Because we never call `.result()`, this code does not wait for any results to be ready."
   ]
  },
  {
   "cell_type": "code",
   "execution_count": 11,
   "id": "aa1becbe-7616-431e-90fd-7030ca85680c",
   "metadata": {
    "execution": {
     "iopub.execute_input": "2021-10-25T16:48:55.224855Z",
     "iopub.status.busy": "2021-10-25T16:48:55.224503Z",
     "iopub.status.idle": "2021-10-25T16:48:55.230979Z",
     "shell.execute_reply": "2021-10-25T16:48:55.230797Z"
    }
   },
   "outputs": [
    {
     "name": "stdout",
     "output_type": "stream",
     "text": [
      "Submitted 8 calculations to start with\n",
      "CPU times: user 8 ms, sys: 4 ms, total: 12 ms\n",
      "Wall time: 7.99 ms\n"
     ]
    }
   ],
   "source": [
    "%%time\n",
    "smiles = search_space.sample(initial_count)['smiles']\n",
    "futures = [compute_vertical_app(s) for s in smiles]\n",
    "print(f'Submitted {len(futures)} calculations to start with')"
   ]
  },
  {
   "cell_type": "markdown",
   "id": "fbea4cbc-468c-4016-8086-0d4226fce119",
   "metadata": {},
   "source": [
    "The futures Parsl produces are based on Python's [native \"Future\"](https://docs.python.org/3/library/concurrent.futures.html#future-objects) object,\n",
    "so we can use Python's utility functions to work with them.\n",
    "\n",
    "As an example, we can build a loop that submits new computations if previous ones fail. This happens not too infrequently with our simulation application.\n",
    "\n",
    "This example uses another method, `Future.exception()`. This is similar to `Future.result()`. It will block until the relevant task is completed, but rather than the result, it returns any exception that was raised during exception (or `None` if not)."
   ]
  },
  {
   "cell_type": "code",
   "execution_count": 12,
   "id": "c72186e7-acbb-4d37-b957-339ff9de8951",
   "metadata": {
    "execution": {
     "iopub.execute_input": "2021-10-25T16:48:55.235009Z",
     "iopub.status.busy": "2021-10-25T16:48:55.234732Z",
     "iopub.status.idle": "2021-10-25T16:49:12.130444Z",
     "shell.execute_reply": "2021-10-25T16:49:12.130075Z"
    }
   },
   "outputs": [
    {
     "name": "stdout",
     "output_type": "stream",
     "text": [
      "Computation for C1CC=CCC=CCO1 succeeded\n",
      "Computation for CC1C2C3OC3C12C=O succeeded\n",
      "Computation for CC1=CC2CC3CC2C13 failed, submitting a replacement computation\n",
      "Computation for OCC12OC1CCC=C2 succeeded\n",
      "Computation for CC1CN1C1=CON=N1 succeeded\n",
      "Computation for CC(C)C1=COC=N1 succeeded\n",
      "Computation for CC1(O)C2COC12C succeeded\n",
      "Computation for CC(C)(C)O succeeded\n",
      "Computation for NC1=CC(CO)=C(O)N1 succeeded\n"
     ]
    }
   ],
   "source": [
    "train_data = []\n",
    "while len(futures) > 0: \n",
    "    # First, get the next completed computation from the list\n",
    "    future = next(as_completed(futures))\n",
    "    \n",
    "    # Remove it from the list of still-running tasks\n",
    "    futures.remove(future)\n",
    "    \n",
    "    # Get the input \n",
    "    smiles = future.task_def['args'][0]\n",
    "    \n",
    "    # Check if the run completed successfully\n",
    "    if future.exception() is not None:\n",
    "        # If it failed, pick a new SMILES string at random and submit it    \n",
    "        print(f'Computation for {smiles} failed, submitting a replacement computation')\n",
    "        smiles = search_space.sample(1).iloc[0]['smiles'] # pick one molecule\n",
    "        new_future = compute_vertical_app(smiles) # launch a simulation in Parsl\n",
    "        futures.append(new_future) # store the Future so we can keep track of it\n",
    "    else:\n",
    "        # If it succeeded, store the result\n",
    "        print(f'Computation for {smiles} succeeded')\n",
    "        train_data.append({\n",
    "            'smiles': smiles,\n",
    "            'ie': future.result(),\n",
    "            'batch': 0,\n",
    "            'time': monotonic()\n",
    "        })"
   ]
  },
  {
   "cell_type": "markdown",
   "id": "b7c44dfd-ce2d-4e60-b208-0a40abe61e36",
   "metadata": {},
   "source": [
    "We now have an initial set  of training data: a pandas `DataFrame` containing the randomly samples molecules alongside the simulated ionization energy (`ie`). In addition, the code above has stored some metadata (`batch` and `time`) which we will use later."
   ]
  },
  {
   "cell_type": "code",
   "execution_count": 13,
   "id": "256b9191-17b1-4b65-9883-4ad7a86f63d3",
   "metadata": {
    "execution": {
     "iopub.execute_input": "2021-10-25T16:49:12.138189Z",
     "iopub.status.busy": "2021-10-25T16:49:12.135639Z",
     "iopub.status.idle": "2021-10-25T16:49:12.142277Z",
     "shell.execute_reply": "2021-10-25T16:49:12.141986Z"
    }
   },
   "outputs": [
    {
     "data": {
      "text/html": [
       "<div>\n",
       "<style scoped>\n",
       "    .dataframe tbody tr th:only-of-type {\n",
       "        vertical-align: middle;\n",
       "    }\n",
       "\n",
       "    .dataframe tbody tr th {\n",
       "        vertical-align: top;\n",
       "    }\n",
       "\n",
       "    .dataframe thead th {\n",
       "        text-align: right;\n",
       "    }\n",
       "</style>\n",
       "<table border=\"1\" class=\"dataframe\">\n",
       "  <thead>\n",
       "    <tr style=\"text-align: right;\">\n",
       "      <th></th>\n",
       "      <th>smiles</th>\n",
       "      <th>ie</th>\n",
       "      <th>batch</th>\n",
       "      <th>time</th>\n",
       "    </tr>\n",
       "  </thead>\n",
       "  <tbody>\n",
       "    <tr>\n",
       "      <th>0</th>\n",
       "      <td>C1CC=CCC=CCO1</td>\n",
       "      <td>0.478304</td>\n",
       "      <td>0</td>\n",
       "      <td>1.722952e+06</td>\n",
       "    </tr>\n",
       "    <tr>\n",
       "      <th>1</th>\n",
       "      <td>CC1C2C3OC3C12C=O</td>\n",
       "      <td>0.507697</td>\n",
       "      <td>0</td>\n",
       "      <td>1.722959e+06</td>\n",
       "    </tr>\n",
       "    <tr>\n",
       "      <th>2</th>\n",
       "      <td>OCC12OC1CCC=C2</td>\n",
       "      <td>0.506380</td>\n",
       "      <td>0</td>\n",
       "      <td>1.723003e+06</td>\n",
       "    </tr>\n",
       "    <tr>\n",
       "      <th>3</th>\n",
       "      <td>CC1CN1C1=CON=N1</td>\n",
       "      <td>0.501157</td>\n",
       "      <td>0</td>\n",
       "      <td>1.723008e+06</td>\n",
       "    </tr>\n",
       "    <tr>\n",
       "      <th>4</th>\n",
       "      <td>CC(C)C1=COC=N1</td>\n",
       "      <td>0.512648</td>\n",
       "      <td>0</td>\n",
       "      <td>1.723026e+06</td>\n",
       "    </tr>\n",
       "    <tr>\n",
       "      <th>5</th>\n",
       "      <td>CC1(O)C2COC12C</td>\n",
       "      <td>0.485627</td>\n",
       "      <td>0</td>\n",
       "      <td>1.723040e+06</td>\n",
       "    </tr>\n",
       "    <tr>\n",
       "      <th>6</th>\n",
       "      <td>CC(C)(C)O</td>\n",
       "      <td>0.523207</td>\n",
       "      <td>0</td>\n",
       "      <td>1.723059e+06</td>\n",
       "    </tr>\n",
       "    <tr>\n",
       "      <th>7</th>\n",
       "      <td>NC1=CC(CO)=C(O)N1</td>\n",
       "      <td>0.438679</td>\n",
       "      <td>0</td>\n",
       "      <td>1.723059e+06</td>\n",
       "    </tr>\n",
       "  </tbody>\n",
       "</table>\n",
       "</div>"
      ],
      "text/plain": [
       "              smiles        ie  batch          time\n",
       "0      C1CC=CCC=CCO1  0.478304      0  1.722952e+06\n",
       "1   CC1C2C3OC3C12C=O  0.507697      0  1.722959e+06\n",
       "2     OCC12OC1CCC=C2  0.506380      0  1.723003e+06\n",
       "3    CC1CN1C1=CON=N1  0.501157      0  1.723008e+06\n",
       "4     CC(C)C1=COC=N1  0.512648      0  1.723026e+06\n",
       "5     CC1(O)C2COC12C  0.485627      0  1.723040e+06\n",
       "6          CC(C)(C)O  0.523207      0  1.723059e+06\n",
       "7  NC1=CC(CO)=C(O)N1  0.438679      0  1.723059e+06"
      ]
     },
     "execution_count": 13,
     "metadata": {},
     "output_type": "execute_result"
    }
   ],
   "source": [
    "train_data = pd.DataFrame(train_data)\n",
    "train_data"
   ]
  },
  {
   "cell_type": "markdown",
   "id": "ffbeb14c-585d-478c-9bcf-35668643138a",
   "metadata": {},
   "source": [
    "## Train an initial machine learning model, use to screen candidates\n",
    "Our next step for Parsl is to produce a machine learning model to estimate the outcome of new computations and use it to scan the search space.\n",
    "\n",
    "To start, let's make a function that takes our existing data and uses it to train a model. We are going to use RDKit and scikit-learn to train a nearest-neighbor model that uses Morgan fingerprints to define similarity (see [notes from a UChicago AI course](https://github.com/WardLT/applied-ai-for-materials/blob/main/molecular-property-prediction/chemoinformatics/2_ml-with-fingerprints.ipynb) for more detail)\n",
    "\n",
    "We want it to run in Parsl, so we create the function using `python_app`. This time, `python_app` is used as a decorator direcly on the function definition (earlier we defined a regular function, and then applied `python_app` afterwards)."
   ]
  },
  {
   "cell_type": "code",
   "execution_count": null,
   "id": "42c59349-4b19-4647-89cd-3ff2b0eb23e6",
   "metadata": {
    "execution": {
     "iopub.execute_input": "2021-10-25T16:49:12.146408Z",
     "iopub.status.busy": "2021-10-25T16:49:12.146055Z",
     "iopub.status.idle": "2021-10-25T16:49:12.147662Z",
     "shell.execute_reply": "2021-10-25T16:49:12.147372Z"
    }
   },
   "outputs": [],
   "source": [
    "@python_app\n",
    "def train_model(train_data):\n",
    "    \"\"\"Train a machine learning model using Morgan Fingerprints.\n",
    "    \n",
    "    Args:\n",
    "        train_data: Dataframe with a 'smiles' and 'ie' column\n",
    "            that contains molecule structure and property, respectfully.\n",
    "    Returns:\n",
    "        A trained model\n",
    "    \"\"\"\n",
    "    # Imports for python functions run remotely must be defined inside the \n",
    "    # function\n",
    "    from chemfunctions import MorganFingerprintTransformer\n",
    "    from sklearn.neighbors import KNeighborsRegressor\n",
    "    from sklearn.pipeline import Pipeline\n",
    "    \n",
    "    \n",
    "    model = Pipeline([\n",
    "        ('fingerprint', MorganFingerprintTransformer()),\n",
    "        ('knn', KNeighborsRegressor(n_neighbors=4, weights='distance', metric='jaccard', n_jobs=-1))  # n_jobs = -1 lets the model run all available processors\n",
    "    ])\n",
    "    \n",
    "    return model.fit(train_data['smiles'], train_data['ie'])"
   ]
  },
  {
   "cell_type": "markdown",
   "id": "641bd1e4-e796-4b88-9ef1-2d941ba0acd8",
   "metadata": {},
   "source": [
    "Let's start it to run asynchronously:"
   ]
  },
  {
   "cell_type": "code",
   "execution_count": 15,
   "id": "d6e20adb-985d-42c7-9495-2df58f84e7ab",
   "metadata": {
    "execution": {
     "iopub.execute_input": "2021-10-25T16:49:12.149817Z",
     "iopub.status.busy": "2021-10-25T16:49:12.149553Z",
     "iopub.status.idle": "2021-10-25T16:49:12.155708Z",
     "shell.execute_reply": "2021-10-25T16:49:12.155396Z"
    }
   },
   "outputs": [],
   "source": [
    "train_future = train_model(train_data)"
   ]
  },
  {
   "cell_type": "markdown",
   "id": "80b3b3e8-8e9c-40a5-b8e7-ec33bc2fdb82",
   "metadata": {},
   "source": [
    "A great feature of Parsl is that it can create workflows on-the-fly from Python: chains of functions that can run in parallel when possible, waiting on dependencies as necessary.  **TODO: is this a relevant workflow definition for this tutorial?\n",
    "\n",
    "To do so, we pass the future created by executing one function an input to another Parsl function.\n",
    "\n",
    "As an example, let's create a function that uses the trained model to run inference on a large set of molecules and then another that takes many predictions and contatenates them into a single collection."
   ]
  },
  {
   "cell_type": "code",
   "execution_count": 16,
   "id": "b58363d1-c843-4df7-990a-b3f679c4f675",
   "metadata": {
    "execution": {
     "iopub.execute_input": "2021-10-25T16:49:12.158690Z",
     "iopub.status.busy": "2021-10-25T16:49:12.158339Z",
     "iopub.status.idle": "2021-10-25T16:49:12.159515Z",
     "shell.execute_reply": "2021-10-25T16:49:12.159765Z"
    }
   },
   "outputs": [],
   "source": [
    "@python_app\n",
    "def run_model(model, smiles):\n",
    "    \"\"\"Run a model on a list of smiles strings\n",
    "    \n",
    "    Args:\n",
    "        model: Trained model that takes SMILES strings as inputs\n",
    "        smiles: List of molecules to evaluate\n",
    "    Returns:\n",
    "        A dataframe with the molecules and their predicted outputs\n",
    "    \"\"\"\n",
    "    import pandas as pd\n",
    "    pred_y = model.predict(smiles)\n",
    "    return pd.DataFrame({'smiles': smiles, 'ie': pred_y})"
   ]
  },
  {
   "cell_type": "code",
   "execution_count": 17,
   "id": "629f46d2-4f5c-4a94-9073-e5389a38759c",
   "metadata": {
    "execution": {
     "iopub.execute_input": "2021-10-25T16:49:12.162390Z",
     "iopub.status.busy": "2021-10-25T16:49:12.162040Z",
     "iopub.status.idle": "2021-10-25T16:49:12.163632Z",
     "shell.execute_reply": "2021-10-25T16:49:12.163336Z"
    }
   },
   "outputs": [],
   "source": [
    "@python_app\n",
    "def combine_inferences(inputs=[]):\n",
    "    \"\"\"Concatenate a series of inferences into a single DataFrame\n",
    "    Args:\n",
    "        inputs: a list of the component DataFrames\n",
    "    Returns:\n",
    "        A single DataFrame containing the same inferences\n",
    "    \"\"\"\n",
    "    import pandas as pd\n",
    "    return pd.concat(inputs, ignore_index=True)"
   ]
  },
  {
   "cell_type": "markdown",
   "id": "f4952a58",
   "metadata": {},
   "source": [
    "Now we've made our definitions, we can chop up the search space into chunks, and invoke `run_model`  once for each chunk of the search space."
   ]
  },
  {
   "cell_type": "code",
   "execution_count": 18,
   "id": "d42cb1dc-f2ed-4a26-bf5e-415b63947a3a",
   "metadata": {
    "execution": {
     "iopub.execute_input": "2021-10-25T16:49:12.172395Z",
     "iopub.status.busy": "2021-10-25T16:49:12.172043Z",
     "iopub.status.idle": "2021-10-25T16:49:12.183102Z",
     "shell.execute_reply": "2021-10-25T16:49:12.182742Z"
    }
   },
   "outputs": [],
   "source": [
    "# Chunk the search space into smaller pieces, so that each can run in parallel\n",
    "chunks = np.array_split(search_space['smiles'], 64)\n",
    "inference_futures = [run_model(train_future, chunk) for chunk in chunks]"
   ]
  },
  {
   "cell_type": "markdown",
   "id": "30adf3b9",
   "metadata": {},
   "source": [
    "... and then combine the collections into a single DataFrame using `combine_inferences`.\n",
    "\n",
    "Parsl will automatically arrange execution so that `train_future` must complete before any of the `run_model` tasks start; and all of the `run_model` tasks must be finished before `combine_inferences` starts."
   ]
  },
  {
   "cell_type": "code",
   "execution_count": 19,
   "id": "57a9a309-9f38-4e11-8e77-1dea84f3bed1",
   "metadata": {
    "execution": {
     "iopub.execute_input": "2021-10-25T16:49:12.185842Z",
     "iopub.status.busy": "2021-10-25T16:49:12.185490Z",
     "iopub.status.idle": "2021-10-25T16:49:12.795271Z",
     "shell.execute_reply": "2021-10-25T16:49:12.795013Z"
    }
   },
   "outputs": [],
   "source": [
    "# We pass the inputs explicitly as a named argument \"inputs\" for Parsl to recognize this as a \"reduce\" step\n",
    "#  See: https://parsl.readthedocs.io/en/stable/userguide/workflow.html#mapreduce\n",
    "predictions = combine_inferences(inputs=inference_futures).result()"
   ]
  },
  {
   "cell_type": "markdown",
   "id": "c2577f6d",
   "metadata": {},
   "source": [
    "We can print out the best five molecules, according to the trained model:"
   ]
  },
  {
   "cell_type": "code",
   "execution_count": 20,
   "id": "2640c439-f553-47d6-ae89-b168299b1827",
   "metadata": {
    "execution": {
     "iopub.execute_input": "2021-10-25T16:49:12.797324Z",
     "iopub.status.busy": "2021-10-25T16:49:12.797034Z",
     "iopub.status.idle": "2021-10-25T16:49:12.801360Z",
     "shell.execute_reply": "2021-10-25T16:49:12.801179Z"
    }
   },
   "outputs": [
    {
     "data": {
      "text/html": [
       "<div>\n",
       "<style scoped>\n",
       "    .dataframe tbody tr th:only-of-type {\n",
       "        vertical-align: middle;\n",
       "    }\n",
       "\n",
       "    .dataframe tbody tr th {\n",
       "        vertical-align: top;\n",
       "    }\n",
       "\n",
       "    .dataframe thead th {\n",
       "        text-align: right;\n",
       "    }\n",
       "</style>\n",
       "<table border=\"1\" class=\"dataframe\">\n",
       "  <thead>\n",
       "    <tr style=\"text-align: right;\">\n",
       "      <th></th>\n",
       "      <th>smiles</th>\n",
       "      <th>ie</th>\n",
       "    </tr>\n",
       "  </thead>\n",
       "  <tbody>\n",
       "    <tr>\n",
       "      <th>808</th>\n",
       "      <td>CC(C)(C)O</td>\n",
       "      <td>0.523207</td>\n",
       "    </tr>\n",
       "    <tr>\n",
       "      <th>374</th>\n",
       "      <td>CC(C)C1=COC=N1</td>\n",
       "      <td>0.512648</td>\n",
       "    </tr>\n",
       "    <tr>\n",
       "      <th>393</th>\n",
       "      <td>CCC(C)OC</td>\n",
       "      <td>0.511422</td>\n",
       "    </tr>\n",
       "    <tr>\n",
       "      <th>711</th>\n",
       "      <td>CC(NC(N)=O)C(N)=O</td>\n",
       "      <td>0.511090</td>\n",
       "    </tr>\n",
       "    <tr>\n",
       "      <th>777</th>\n",
       "      <td>CCC1CN(C)CC1=O</td>\n",
       "      <td>0.510694</td>\n",
       "    </tr>\n",
       "  </tbody>\n",
       "</table>\n",
       "</div>"
      ],
      "text/plain": [
       "                smiles        ie\n",
       "808          CC(C)(C)O  0.523207\n",
       "374     CC(C)C1=COC=N1  0.512648\n",
       "393           CCC(C)OC  0.511422\n",
       "711  CC(NC(N)=O)C(N)=O  0.511090\n",
       "777     CCC1CN(C)CC1=O  0.510694"
      ]
     },
     "execution_count": 20,
     "metadata": {},
     "output_type": "execute_result"
    }
   ],
   "source": [
    "predictions.sort_values('ie', ascending=False).head(5)"
   ]
  },
  {
   "cell_type": "markdown",
   "id": "d71b95b0-040a-411b-bb49-cf1ab8f3d1ca",
   "metadata": {},
   "source": [
    "We now have the ability to train a model and use it to identify molecules that are likely to be good next choices for simulations. Time to build a model-in-the-loop workflow."
   ]
  },
  {
   "cell_type": "markdown",
   "id": "fe44cc03-1d77-4b0d-a09b-e2895d21210a",
   "metadata": {},
   "source": [
    "## Model-in-the-Loop Workflow\n",
    "We are going to build an application that uses a machine learning model to pick a batch of simulations, runs the simulations in parallel, and then uses the data to retrain the model before repeating the loop.\n",
    "\n",
    "This code uses `train_model`, `run_model` and `combine_inferences` as above, but repeatedly retrains the model using the predicted best molecules of each iteration until a fixed number of molecule simulations have been trained against:"
   ]
  },
  {
   "cell_type": "code",
   "execution_count": null,
   "id": "656921aa-343c-481f-bc40-5b97e8720e3c",
   "metadata": {
    "execution": {
     "iopub.execute_input": "2021-10-25T16:49:12.818959Z",
     "iopub.status.busy": "2021-10-25T16:49:12.806555Z",
     "iopub.status.idle": "2021-10-25T16:50:18.142180Z",
     "shell.execute_reply": "2021-10-25T16:50:18.142402Z"
    }
   },
   "outputs": [
    {
     "data": {
      "application/vnd.jupyter.widget-view+json": {
       "model_id": "01139a74cd7e4ebc883252cb961dda9a",
       "version_major": 2,
       "version_minor": 0
      },
      "text/plain": [
       "  0%|          | 0/32 [00:00<?, ?it/s]"
      ]
     },
     "metadata": {},
     "output_type": "display_data"
    }
   ],
   "source": [
    "with tqdm(total=search_count) as prog_bar: # setup a graphical progress bar\n",
    "    prog_bar.update(len(train_data))\n",
    "    batch = 1\n",
    "    already_ran = set(train_data['smiles'])\n",
    "    while len(train_data) < search_count:\n",
    "        # Train and predict as show in the previous section.\n",
    "        train_future = train_model(train_data)\n",
    "        inference_futures = [run_model(train_future, chunk) for chunk in np.array_split(search_space['smiles'], 64)]\n",
    "        predictions = combine_inferences(inputs=inference_futures).result()\n",
    "\n",
    "        # Sort the predictions in descending order, and submit new molecules from them\n",
    "        predictions.sort_values('ie', ascending=False, inplace=True)\n",
    "        sim_futures = []\n",
    "        for smiles in predictions['smiles']:\n",
    "            if smiles not in already_ran:\n",
    "                sim_futures.append(compute_vertical_app(smiles))\n",
    "                already_ran.add(smiles)\n",
    "                if len(sim_futures) >= batch_size:\n",
    "                    break\n",
    "\n",
    "        # Wait for every task in the current batch to complete, and store successful results\n",
    "        new_results = []\n",
    "        for future in as_completed(sim_futures):\n",
    "            if future.exception() is None:\n",
    "                prog_bar.update(1)\n",
    "                new_results.append({\n",
    "                    'smiles': future.task_def['args'][0],\n",
    "                    'ie': future.result(),\n",
    "                    'batch': batch, \n",
    "                    'time': monotonic()\n",
    "                })\n",
    "                \n",
    "        # Update the training data and repeat\n",
    "        batch += 1\n",
    "        train_data = pd.concat((train_data, pd.DataFrame(new_results)), ignore_index=True)"
   ]
  },
  {
   "cell_type": "markdown",
   "id": "b71f5168-ba88-469a-9ace-8c6574d5aa7f",
   "metadata": {},
   "source": [
    "We can plot the training data against the time of simulation, showing that the model was finding better molecules later on in the run:"
   ]
  },
  {
   "cell_type": "code",
   "execution_count": null,
   "id": "215f8ee9-b61f-4e2a-975f-c940f87c3d08",
   "metadata": {
    "execution": {
     "iopub.execute_input": "2021-10-25T16:50:18.145866Z",
     "iopub.status.busy": "2021-10-25T16:50:18.145519Z",
     "iopub.status.idle": "2021-10-25T16:50:18.146800Z",
     "shell.execute_reply": "2021-10-25T16:50:18.147004Z"
    }
   },
   "outputs": [],
   "source": [
    "train_data['time'] = train_data['time'] - train_data['time'].min()"
   ]
  },
  {
   "cell_type": "code",
   "execution_count": null,
   "id": "1d58f722-0250-44e7-86bd-6f664c67a837",
   "metadata": {
    "execution": {
     "iopub.execute_input": "2021-10-25T16:50:18.159557Z",
     "iopub.status.busy": "2021-10-25T16:50:18.148111Z",
     "iopub.status.idle": "2021-10-25T16:50:18.256252Z",
     "shell.execute_reply": "2021-10-25T16:50:18.256538Z"
    }
   },
   "outputs": [],
   "source": [
    "fig, ax = plt.subplots(figsize=(4.5, 3.))\n",
    "\n",
    "ax.scatter(train_data['time'], train_data['ie'])\n",
    "ax.step(train_data['time'], train_data['ie'].cummax(), 'k--')\n",
    "\n",
    "ax.set_xlabel('Walltime (s)')\n",
    "ax.set_ylabel('Ion. Energy (Ha)')\n",
    "\n",
    "fig.tight_layout()"
   ]
  },
  {
   "cell_type": "markdown",
   "id": "bdb145f7-1aac-453c-85d6-328a01b71b27",
   "metadata": {},
   "source": [
    "You can see how our search program finds better molecules over time!"
   ]
  },
  {
   "cell_type": "code",
   "execution_count": null,
   "id": "20705de3-ff9f-4316-b845-9e036f34d2ef",
   "metadata": {},
   "outputs": [],
   "source": []
  }
 ],
 "metadata": {
  "kernelspec": {
   "display_name": "Python 3",
   "language": "python",
   "name": "python3"
  },
  "language_info": {
   "codemirror_mode": {
    "name": "ipython",
    "version": 3
   },
   "file_extension": ".py",
   "mimetype": "text/x-python",
   "name": "python",
   "nbconvert_exporter": "python",
   "pygments_lexer": "ipython3",
   "version": "3.9.7"
  },
  "widgets": {
   "application/vnd.jupyter.widget-state+json": {
    "state": {
     "0cacceed9db4464f9f414274519b4949": {
      "model_module": "@jupyter-widgets/base",
      "model_module_version": "1.2.0",
      "model_name": "LayoutModel",
      "state": {
       "_model_module": "@jupyter-widgets/base",
       "_model_module_version": "1.2.0",
       "_model_name": "LayoutModel",
       "_view_count": null,
       "_view_module": "@jupyter-widgets/base",
       "_view_module_version": "1.2.0",
       "_view_name": "LayoutView",
       "align_content": null,
       "align_items": null,
       "align_self": null,
       "border": null,
       "bottom": null,
       "display": null,
       "flex": null,
       "flex_flow": null,
       "grid_area": null,
       "grid_auto_columns": null,
       "grid_auto_flow": null,
       "grid_auto_rows": null,
       "grid_column": null,
       "grid_gap": null,
       "grid_row": null,
       "grid_template_areas": null,
       "grid_template_columns": null,
       "grid_template_rows": null,
       "height": null,
       "justify_content": null,
       "justify_items": null,
       "left": null,
       "margin": null,
       "max_height": null,
       "max_width": null,
       "min_height": null,
       "min_width": null,
       "object_fit": null,
       "object_position": null,
       "order": null,
       "overflow": null,
       "overflow_x": null,
       "overflow_y": null,
       "padding": null,
       "right": null,
       "top": null,
       "visibility": null,
       "width": null
      }
     },
     "252de14e22c54080bfcaff0574d898d4": {
      "model_module": "@jupyter-widgets/controls",
      "model_module_version": "1.5.0",
      "model_name": "ProgressStyleModel",
      "state": {
       "_model_module": "@jupyter-widgets/controls",
       "_model_module_version": "1.5.0",
       "_model_name": "ProgressStyleModel",
       "_view_count": null,
       "_view_module": "@jupyter-widgets/base",
       "_view_module_version": "1.2.0",
       "_view_name": "StyleView",
       "bar_color": null,
       "description_width": ""
      }
     },
     "270ad7c288c14ba2af5fe1cd642a09eb": {
      "model_module": "@jupyter-widgets/controls",
      "model_module_version": "1.5.0",
      "model_name": "HTMLModel",
      "state": {
       "_dom_classes": [],
       "_model_module": "@jupyter-widgets/controls",
       "_model_module_version": "1.5.0",
       "_model_name": "HTMLModel",
       "_view_count": null,
       "_view_module": "@jupyter-widgets/controls",
       "_view_module_version": "1.5.0",
       "_view_name": "HTMLView",
       "description": "",
       "description_tooltip": null,
       "layout": "IPY_MODEL_6fe9c731cdc640ad858660f64c387dc4",
       "placeholder": "​",
       "style": "IPY_MODEL_fe7006dbf4824d898f4f010f87b1c6f2",
       "value": " 70/? [01:05&lt;00:00,  1.26s/it]"
      }
     },
     "474ddeec4b9e40f5a89f9c7b67ea31e6": {
      "model_module": "@jupyter-widgets/controls",
      "model_module_version": "1.5.0",
      "model_name": "HTMLModel",
      "state": {
       "_dom_classes": [],
       "_model_module": "@jupyter-widgets/controls",
       "_model_module_version": "1.5.0",
       "_model_name": "HTMLModel",
       "_view_count": null,
       "_view_module": "@jupyter-widgets/controls",
       "_view_module_version": "1.5.0",
       "_view_name": "HTMLView",
       "description": "",
       "description_tooltip": null,
       "layout": "IPY_MODEL_0cacceed9db4464f9f414274519b4949",
       "placeholder": "​",
       "style": "IPY_MODEL_d4c9ca989df549f09c7ce94ee74c6a57",
       "value": ""
      }
     },
     "6fe9c731cdc640ad858660f64c387dc4": {
      "model_module": "@jupyter-widgets/base",
      "model_module_version": "1.2.0",
      "model_name": "LayoutModel",
      "state": {
       "_model_module": "@jupyter-widgets/base",
       "_model_module_version": "1.2.0",
       "_model_name": "LayoutModel",
       "_view_count": null,
       "_view_module": "@jupyter-widgets/base",
       "_view_module_version": "1.2.0",
       "_view_name": "LayoutView",
       "align_content": null,
       "align_items": null,
       "align_self": null,
       "border": null,
       "bottom": null,
       "display": null,
       "flex": null,
       "flex_flow": null,
       "grid_area": null,
       "grid_auto_columns": null,
       "grid_auto_flow": null,
       "grid_auto_rows": null,
       "grid_column": null,
       "grid_gap": null,
       "grid_row": null,
       "grid_template_areas": null,
       "grid_template_columns": null,
       "grid_template_rows": null,
       "height": null,
       "justify_content": null,
       "justify_items": null,
       "left": null,
       "margin": null,
       "max_height": null,
       "max_width": null,
       "min_height": null,
       "min_width": null,
       "object_fit": null,
       "object_position": null,
       "order": null,
       "overflow": null,
       "overflow_x": null,
       "overflow_y": null,
       "padding": null,
       "right": null,
       "top": null,
       "visibility": null,
       "width": null
      }
     },
     "84f635e5b62a44c0b110315fb375c321": {
      "model_module": "@jupyter-widgets/controls",
      "model_module_version": "1.5.0",
      "model_name": "FloatProgressModel",
      "state": {
       "_dom_classes": [],
       "_model_module": "@jupyter-widgets/controls",
       "_model_module_version": "1.5.0",
       "_model_name": "FloatProgressModel",
       "_view_count": null,
       "_view_module": "@jupyter-widgets/controls",
       "_view_module_version": "1.5.0",
       "_view_name": "ProgressView",
       "bar_style": "success",
       "description": "",
       "description_tooltip": null,
       "layout": "IPY_MODEL_ad75de48e1324ca3993fc8cf8b31a853",
       "max": 64,
       "min": 0,
       "orientation": "horizontal",
       "style": "IPY_MODEL_252de14e22c54080bfcaff0574d898d4",
       "value": 64
      }
     },
     "91420bed062b46e9b5c2a914377ed68f": {
      "model_module": "@jupyter-widgets/base",
      "model_module_version": "1.2.0",
      "model_name": "LayoutModel",
      "state": {
       "_model_module": "@jupyter-widgets/base",
       "_model_module_version": "1.2.0",
       "_model_name": "LayoutModel",
       "_view_count": null,
       "_view_module": "@jupyter-widgets/base",
       "_view_module_version": "1.2.0",
       "_view_name": "LayoutView",
       "align_content": null,
       "align_items": null,
       "align_self": null,
       "border": null,
       "bottom": null,
       "display": null,
       "flex": null,
       "flex_flow": null,
       "grid_area": null,
       "grid_auto_columns": null,
       "grid_auto_flow": null,
       "grid_auto_rows": null,
       "grid_column": null,
       "grid_gap": null,
       "grid_row": null,
       "grid_template_areas": null,
       "grid_template_columns": null,
       "grid_template_rows": null,
       "height": null,
       "justify_content": null,
       "justify_items": null,
       "left": null,
       "margin": null,
       "max_height": null,
       "max_width": null,
       "min_height": null,
       "min_width": null,
       "object_fit": null,
       "object_position": null,
       "order": null,
       "overflow": null,
       "overflow_x": null,
       "overflow_y": null,
       "padding": null,
       "right": null,
       "top": null,
       "visibility": null,
       "width": null
      }
     },
     "ad75de48e1324ca3993fc8cf8b31a853": {
      "model_module": "@jupyter-widgets/base",
      "model_module_version": "1.2.0",
      "model_name": "LayoutModel",
      "state": {
       "_model_module": "@jupyter-widgets/base",
       "_model_module_version": "1.2.0",
       "_model_name": "LayoutModel",
       "_view_count": null,
       "_view_module": "@jupyter-widgets/base",
       "_view_module_version": "1.2.0",
       "_view_name": "LayoutView",
       "align_content": null,
       "align_items": null,
       "align_self": null,
       "border": null,
       "bottom": null,
       "display": null,
       "flex": null,
       "flex_flow": null,
       "grid_area": null,
       "grid_auto_columns": null,
       "grid_auto_flow": null,
       "grid_auto_rows": null,
       "grid_column": null,
       "grid_gap": null,
       "grid_row": null,
       "grid_template_areas": null,
       "grid_template_columns": null,
       "grid_template_rows": null,
       "height": null,
       "justify_content": null,
       "justify_items": null,
       "left": null,
       "margin": null,
       "max_height": null,
       "max_width": null,
       "min_height": null,
       "min_width": null,
       "object_fit": null,
       "object_position": null,
       "order": null,
       "overflow": null,
       "overflow_x": null,
       "overflow_y": null,
       "padding": null,
       "right": null,
       "top": null,
       "visibility": null,
       "width": null
      }
     },
     "bb5f4153b6a44eac8cec5ed6fc6923ca": {
      "model_module": "@jupyter-widgets/controls",
      "model_module_version": "1.5.0",
      "model_name": "HBoxModel",
      "state": {
       "_dom_classes": [],
       "_model_module": "@jupyter-widgets/controls",
       "_model_module_version": "1.5.0",
       "_model_name": "HBoxModel",
       "_view_count": null,
       "_view_module": "@jupyter-widgets/controls",
       "_view_module_version": "1.5.0",
       "_view_name": "HBoxView",
       "box_style": "",
       "children": [
        "IPY_MODEL_474ddeec4b9e40f5a89f9c7b67ea31e6",
        "IPY_MODEL_84f635e5b62a44c0b110315fb375c321",
        "IPY_MODEL_270ad7c288c14ba2af5fe1cd642a09eb"
       ],
       "layout": "IPY_MODEL_91420bed062b46e9b5c2a914377ed68f"
      }
     },
     "d4c9ca989df549f09c7ce94ee74c6a57": {
      "model_module": "@jupyter-widgets/controls",
      "model_module_version": "1.5.0",
      "model_name": "DescriptionStyleModel",
      "state": {
       "_model_module": "@jupyter-widgets/controls",
       "_model_module_version": "1.5.0",
       "_model_name": "DescriptionStyleModel",
       "_view_count": null,
       "_view_module": "@jupyter-widgets/base",
       "_view_module_version": "1.2.0",
       "_view_name": "StyleView",
       "description_width": ""
      }
     },
     "fe7006dbf4824d898f4f010f87b1c6f2": {
      "model_module": "@jupyter-widgets/controls",
      "model_module_version": "1.5.0",
      "model_name": "DescriptionStyleModel",
      "state": {
       "_model_module": "@jupyter-widgets/controls",
       "_model_module_version": "1.5.0",
       "_model_name": "DescriptionStyleModel",
       "_view_count": null,
       "_view_module": "@jupyter-widgets/base",
       "_view_module_version": "1.2.0",
       "_view_name": "StyleView",
       "description_width": ""
      }
     }
    },
    "version_major": 2,
    "version_minor": 0
   }
  }
 },
 "nbformat": 4,
 "nbformat_minor": 5
}
